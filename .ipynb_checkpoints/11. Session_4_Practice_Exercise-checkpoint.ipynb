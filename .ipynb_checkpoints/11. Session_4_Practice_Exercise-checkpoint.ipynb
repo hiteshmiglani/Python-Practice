{
 "cells": [
  {
   "cell_type": "markdown",
   "metadata": {
    "colab_type": "text",
    "id": "pCvEoEa_hucz"
   },
   "source": [
    "# Ice Cream Sundae - Ordering Menu"
   ]
  },
  {
   "cell_type": "markdown",
   "metadata": {
    "colab_type": "text",
    "id": "1i7toKBxhuc0"
   },
   "source": [
    "You are expected to build an interactive application to order ice cream Sundays in an ice-cream parlour.\n",
    "You are expected to use the concepts you learnt from the Object-Oriented programming session. The complete building process is divided into questions given below after you solve all the questions you will the complete ordering application.\n",
    "\n",
    "Let's get started!!\n"
   ]
  },
  {
   "cell_type": "markdown",
   "metadata": {
    "colab_type": "text",
    "id": "0C_tgAnKhuc1"
   },
   "source": [
    "### Question \n",
    "\n",
    "Declare a class \"ice_cream\". It needs to have the following constants and instance methods defined. \n",
    "\n",
    "1. Radius of a small scoop (r_small = 1.5)\n",
    "2. Radius of large scoop (r_large = 2.5)\n",
    "3. Value of pie (pi = 3.14)\n",
    "4. An instance method \"flavour\" - it should print enter your flavour.\n",
    "\n",
    "Given below is the example of a sample class and its methods and variables for reference:\n",
    "\n",
    "class chocolate:\n",
    "\n",
    "    chocolate_length=10\n",
    "    chocolate_breadth=2\n",
    "    \n",
    "    def area(self):\n",
    "        print(\"Enter your favourite chocolate\")"
   ]
  },
  {
   "cell_type": "code",
   "execution_count": null,
   "metadata": {
    "colab": {},
    "colab_type": "code",
    "id": "GfLJzbqYhuc2"
   },
   "outputs": [],
   "source": [
    "# Declare class here:\n",
    "\n",
    "class ice_cream():\n",
    "    \n",
    "    # Declare class variables:\n",
    "    r_small = 1.5\n",
    "    r_large = 2.5\n",
    "    pi = 3.14\n",
    "\n",
    "    \n",
    "    # Declare instance methods:\n",
    "    def flavor(self):\n",
    "        print('enter your flavour')"
   ]
  },
  {
   "cell_type": "code",
   "execution_count": null,
   "metadata": {
    "colab": {},
    "colab_type": "code",
    "id": "f0SQN8krhuc7"
   },
   "outputs": [],
   "source": [
    "# Call the class and function(s):\n",
    "ic= ice_cream()\n",
    "ic.flavor()"
   ]
  },
  {
   "cell_type": "markdown",
   "metadata": {
    "colab_type": "text",
    "id": "0pbvDJyJhudA"
   },
   "source": [
    "### Question\n",
    "\n",
    "Modify the class \"ice_cream\" to add a method which can calculate the cost of the Ice cream based on its size. \n",
    "\n",
    "Cost of ice cream is 0.5$ per unit volume. Take the input from the user about what size of ice cream scoops they want small or large. Based on that calculate the volume of the scoop and use the volume and the cost per volume to calculate the cost of ice cream. \n",
    "\n",
    "Hint: Declare a class similar to example above. Add new function that calculates the cost depending on the scope size. Use If-else statement to calculate ice-cream cost."
   ]
  },
  {
   "cell_type": "code",
   "execution_count": null,
   "metadata": {
    "colab": {},
    "colab_type": "code",
    "id": "9eQxfZURhudA"
   },
   "outputs": [],
   "source": [
    "# Declare class here:\n",
    "\n",
    "class ice_cream():\n",
    "    \n",
    "    # Declare class variables:\n",
    "    r_small = 1.5\n",
    "    r_large = 2.5\n",
    "    pi = 3.14\n",
    "    \n",
    "    # Declare instance methods:\n",
    "    def __init__(self,size):\n",
    "        self.size = size\n",
    "        \n",
    "    def cost(self):\n",
    "        if self.size == 'S':\n",
    "            Cost = (4/3)*ice_cream.pi*(ice_cream.r_small**3)*0.5\n",
    "            print('The cost of your Small scoop is {} '.format((4/3)*ice_cream.pi*(ice_cream.r_small**3)*0.5))\n",
    "        elif self.size == 'L':\n",
    "            print('The cost of your Large scoop is {}'.format((4/3)*ice_cream.pi*(ice_cream.r_large**3)*0.5))"
   ]
  },
  {
   "cell_type": "code",
   "execution_count": null,
   "metadata": {
    "colab": {},
    "colab_type": "code",
    "id": "mXEmGzKEhudF"
   },
   "outputs": [],
   "source": [
    "# Call the class and function(s):\n",
    "\n",
    "size= input('Hello!! Welcome to Ice Cream Parlor.. \\nWhich size would you like to have \"S\" or \"L\" ')\n",
    "ic = ice_cream(size)\n",
    "ic.cost()\n"
   ]
  },
  {
   "cell_type": "markdown",
   "metadata": {
    "colab_type": "text",
    "id": "qUipR0SYhudL"
   },
   "source": [
    "### Question \n",
    "\n",
    "In the above function find a way to round up the cost to the next integer value. \n",
    "\n",
    "Hint: In the same class as above, add a additional element to the cost variable that rounds up the cost to the next nearest integer.\n",
    "For example: if the cost is 10.41, the output should be 11$\n",
    "##### For rounding up an integer value you could use either the ceil() or round()"
   ]
  },
  {
   "cell_type": "code",
   "execution_count": null,
   "metadata": {
    "colab": {},
    "colab_type": "code",
    "collapsed": true,
    "id": "o4DhKcNPhudM"
   },
   "outputs": [],
   "source": [
    "class ice_cream():\n",
    "    \n",
    "    # Declare class variables:\n",
    "    r_small = 1.5\n",
    "    r_large = 2.5\n",
    "    pi = 3.14\n",
    "    \n",
    "    # Declare instance methods:\n",
    "    def __init__(self,size):\n",
    "        self.size = size\n",
    "        \n",
    "    def cost(self):\n",
    "        if self.size == 'S':\n",
    "            Cost = (4/3)*ice_cream.pi*(ice_cream.r_small**3)*0.5\n",
    "            print('The cost of your Small scoop is {} '.format(round((4/3)*ice_cream.pi*(ice_cream.r_small**3)*0.5)))\n",
    "        elif self.size == 'L':\n",
    "            print('The cost of your Large scoop is {}'.format(round((4/3)*ice_cream.pi*(ice_cream.r_large**3)*0.5)))"
   ]
  },
  {
   "cell_type": "code",
   "execution_count": null,
   "metadata": {
    "colab": {},
    "colab_type": "code",
    "id": "2wq3zXBvhudP"
   },
   "outputs": [],
   "source": [
    "# Call the class and function(s):\n",
    "size= input('Hello!! Welcome to Ice Cream Parlor.. \\nWhich size would you like to have \"S\" or \"L\" ')\n",
    "if size =='S':\n",
    "    ic = ice_cream('S')\n",
    "    ic.cost()\n",
    "else:\n",
    "    ic = ice_cream('L')\n",
    "    ic.cost()"
   ]
  },
  {
   "cell_type": "markdown",
   "metadata": {
    "colab_type": "text",
    "id": "X-jaGJ0shudU"
   },
   "source": [
    "### Question \n",
    "\n",
    "Modify the flavour function to give the options of available flavours and take as input the choice of the customer. \n",
    "\n",
    "The available options are Vanilla, Chocolate, Butterscotch, Blue_berry.\n",
    "\n",
    "Hint: Add a new function that asks the user to input the choice of flavour."
   ]
  },
  {
   "cell_type": "code",
   "execution_count": null,
   "metadata": {
    "colab": {},
    "colab_type": "code",
    "collapsed": true,
    "id": "Jo1-46mahudV"
   },
   "outputs": [],
   "source": [
    "class ice_cream():\n",
    "    \n",
    "    # Declare class variables:\n",
    "    r_small = 1.5\n",
    "    r_large = 2.5\n",
    "    pi = 3.14\n",
    "    \n",
    "    # Declare instance methods:\n",
    "    def __init__(self,size):\n",
    "        self.size = size\n",
    "        \n",
    "    def flavor(self):\n",
    "        input('Please choose your flavour - Vanilla, Chocolate, Butterscotch, Blue_berry.')\n",
    "        \n",
    "    def cost(self):\n",
    "        if self.size == 'S':\n",
    "            Cost = (4/3)*ice_cream.pi*(ice_cream.r_small**3)*0.5\n",
    "            print('The cost of your Small scoop is {} '.format(round((4/3)*ice_cream.pi*(ice_cream.r_small**3)*0.5)))\n",
    "        elif self.size == 'L':\n",
    "            print('The cost of your Large scoop is {}'.format(round((4/3)*ice_cream.pi*(ice_cream.r_large**3)*0.5)))"
   ]
  },
  {
   "cell_type": "code",
   "execution_count": null,
   "metadata": {
    "colab": {},
    "colab_type": "code",
    "id": "BbIcQx5UhudY"
   },
   "outputs": [],
   "source": [
    "# Call the class and function(s):\n",
    "ic= ice_cream('S')\n",
    "ic.flavor()"
   ]
  },
  {
   "cell_type": "markdown",
   "metadata": {
    "colab_type": "text",
    "id": "_36pklUZhudc"
   },
   "source": [
    "### Question \n",
    "\n",
    "Build a new class called \"toppings\". It should have all the functionality of the ice_cream class.\n",
    "\n",
    "The toppings class will also have a method which will take as input the choice of toppings that the customer wants.\n",
    "The available choices of toppings are: Hot_fudge, Sprinkles, Caramel, Oreos, Nuts\n",
    "\n",
    "Hint: Create a new class that ask the user to choose one or more toppings"
   ]
  },
  {
   "cell_type": "code",
   "execution_count": null,
   "metadata": {
    "colab": {},
    "colab_type": "code",
    "collapsed": true,
    "id": "5RwkG2vWhudd"
   },
   "outputs": [],
   "source": [
    "# Declare class here:\n",
    "\n",
    "class toppings(ice_cream):\n",
    "    # Declare class variables:\n",
    "    def toppings_choice(self):\n",
    "        input('Please choose your toppings - Hot_fudge, Sprinkles, Caramel, Oreos, Nuts.')\n",
    "    \n",
    "    # Declare instance methods:"
   ]
  },
  {
   "cell_type": "code",
   "execution_count": null,
   "metadata": {
    "colab": {},
    "colab_type": "code",
    "id": "sbLm1xbnhudk"
   },
   "outputs": [],
   "source": [
    "# Call the class and function(s):\n",
    "tp= toppings('S')\n",
    "tp.toppings_choice()"
   ]
  },
  {
   "cell_type": "markdown",
   "metadata": {
    "colab_type": "text",
    "id": "cKpJpxQMhudo"
   },
   "source": [
    "### Question \n",
    "\n",
    "Add a method to calculate the cost of selected, toppings given the cost of each of the topping is 2$. \n",
    "\n",
    "Hint: Now in the class for toppings, add a function to calculate the cost per topping added."
   ]
  },
  {
   "cell_type": "code",
   "execution_count": 19,
   "metadata": {
    "colab": {},
    "colab_type": "code",
    "collapsed": true,
    "id": "Z-pQhpqzhudp"
   },
   "outputs": [],
   "source": [
    "class toppings(ice_cream):\n",
    "    # Declare class variables:\n",
    "    choice=''\n",
    "    \n",
    "    # Declare instance methods:\n",
    "    def toppings_choice(self):\n",
    "        toppings.choice= input('Please choose your toppings - Hot_fudge, Sprinkles, Caramel, Oreos, Nuts.')\n",
    "    \n",
    "    def toppings_cost(self):\n",
    "        L1 = toppings.choice.split(',')\n",
    "        return (len(L1)*2)\n",
    "    "
   ]
  },
  {
   "cell_type": "code",
   "execution_count": 20,
   "metadata": {
    "colab": {},
    "colab_type": "code",
    "id": "LXuemp0Lhuds"
   },
   "outputs": [
    {
     "name": "stdout",
     "output_type": "stream",
     "text": [
      "Please choose your toppings - Hot_fudge, Sprinkles, Caramel, Oreos, Nuts.Oreos\n",
      "2\n"
     ]
    }
   ],
   "source": [
    "# Call the class and function(s):\n",
    "tp= toppings('S')\n",
    "tp.toppings_choice()\n",
    "print(tp.toppings_cost())"
   ]
  },
  {
   "cell_type": "markdown",
   "metadata": {
    "colab_type": "text",
    "id": "TTTDsNTthudv"
   },
   "source": [
    "### Question: \n",
    "Now you have all the functionality needed to create the ordering menu. \n",
    " \n",
    "1. An order can be for simply Ice Cream or an Ice Cream sundae. \n",
    "2. There can be multiple items in an order. \n",
    "3. Calculate the cost of each order placed.\n",
    "\n",
    "Hint: Club both the class you have created above and finally create an Ice-cream ordereing machine that display a welcome message: \"Welcome to  Ice Cream parlour\". Asks the user if he/she wants and ice cream or ice cream-sundae. Ask the choice of flavour and toppings and returns the total cost. Dont forget to ask if the user wants another item after he finishes ordering the first one!"
   ]
  },
  {
   "cell_type": "code",
   "execution_count": 1,
   "metadata": {
    "colab": {},
    "colab_type": "code",
    "id": "0R99hpmthudw"
   },
   "outputs": [],
   "source": [
    "import math\n",
    "\n",
    "class ice_cream():\n",
    "    \n",
    "    # Declare class variables:\n",
    "    r_small = 1.5\n",
    "    r_large = 2.5\n",
    "    pi = 3.14\n",
    "    flvr = ''  \n",
    "    # Declare instance methods:\n",
    "    def __init__(self,size):\n",
    "        self.size = size\n",
    "        \n",
    "    def flavor(self):\n",
    "        ice_cream.flvr= input('Which flavour would you like to choose - Vanilla, Chocolate, Butterscotch, Blue_berry.')\n",
    "        return ice_cream.flvr\n",
    "        \n",
    "    def cost(self):\n",
    "        if self.size == 'S':\n",
    "            return round((4/3)*ice_cream.pi*(ice_cream.r_small**3)*0.5)\n",
    "        elif self.size == 'L':\n",
    "            return round((4/3)*ice_cream.pi*(ice_cream.r_large**3)*0.5)\n",
    "\n",
    "class toppings(ice_cream):\n",
    "    # Declare class variables:\n",
    "    choice=''\n",
    "    top_cost = 0\n",
    "    \n",
    "    # Declare instance methods:\n",
    "    def toppings_choice(self):\n",
    "        toppings.choice= input('Please choose your toppings - Hot_fudge, Sprinkles, Caramel, Oreos, Nuts.')\n",
    "    \n",
    "    def toppings_cost(self):\n",
    "        L1 = toppings.choice.split(',')\n",
    "        return (len(L1)*2)\n",
    "                "
   ]
  },
  {
   "cell_type": "code",
   "execution_count": null,
   "metadata": {},
   "outputs": [
    {
     "name": "stdout",
     "output_type": "stream",
     "text": [
      "Hello!! Welcome to Ice Cream Parlor..\n",
      "Would you like to have an ice cream or ice cream-sundae?sundae\n",
      "Good Choice ... An ice cream-sundae it is\n",
      "Which size would you like to have \"S\" or \"L\" S\n",
      "Which flavour would you like to choose - Vanilla, Chocolate, Butterscotch, Blue_berry.Vanilla\n",
      "Excellent choice!! Vanilla is our famous flavor\n",
      "Please choose your toppings - Hot_fudge, Sprinkles, Caramel, Oreos, Nuts.Caramel, Oreos\n",
      "Umm.. Caramel, Oreos Perfect!!\n",
      "Your total is $11\n",
      "Do you want to order another one? Y or N ?Y\n",
      "Would you like to have an ice cream or ice cream-sundae?ice cream\n",
      "Sure.. An ice cream it is\n",
      "Which size would you like to have \"S\" or \"L\" L\n",
      "Which flavour would you like to choose - Vanilla, Chocolate, Butterscotch, Blue_berry.Chocolate\n",
      "Excellent choice!! Chocolate is our famous flavor\n",
      "Your total is $7\n"
     ]
    }
   ],
   "source": [
    "print('Hello!! Welcome to Ice Cream Parlor..')\n",
    "\n",
    "flag =True\n",
    "\n",
    "while flag:\n",
    "    message = input('Would you like to have an ice cream or ice cream-sundae?')\n",
    "                \n",
    "    if 'sundae' in message:\n",
    "        print('Good Choice ... An ice cream-sundae it is')\n",
    "        size= input ('Which size would you like to have \"S\" or \"L\" ')\n",
    "        ic = ice_cream(size)\n",
    "        ic.flavor()\n",
    "        print('Excellent choice!! {} is our famous flavor'.format(ice_cream.flvr))\n",
    "        tp= toppings(size)\n",
    "        tp.toppings_choice()\n",
    "        print('Umm.. {} Perfect!!'.format(toppings.choice)) \n",
    "        price = ic.cost() + tp.toppings_cost()\n",
    "        print('Your total is ${}'.format(price))\n",
    "\n",
    "    else:\n",
    "        print('Sure.. An ice cream it is')\n",
    "        size= input ('Which size would you like to have \"S\" or \"L\" ')\n",
    "        ic = ice_cream(size)\n",
    "        ic.flavor()\n",
    "        print('Excellent choice!! {} is our famous flavor'.format(ice_cream.flvr))\n",
    "        price = ic.cost()\n",
    "        print('Your total is ${}'.format(price))\n",
    "    \n",
    "    another_one = input('Do you want to order another one? Y or N ?')\n",
    "    if another_one == 'Y':\n",
    "        flag =True\n",
    "    else:\n",
    "        flag =False\n",
    "                       \n",
    "\n",
    "\n",
    "    "
   ]
  },
  {
   "cell_type": "markdown",
   "metadata": {
    "colab_type": "text",
    "id": "xm-KVss1h00g"
   },
   "source": [
    "Great job! You have learned the skills to create a real-world application, in case of any doubts please feel free to put in up on the discussion forum or reach out to your TA(teaching assistant).\n",
    "####Happy Learning!!"
   ]
  }
 ],
 "metadata": {
  "colab": {
   "name": "Session 4 Practice Exercise1.ipynb",
   "provenance": []
  },
  "kernelspec": {
   "display_name": "Python 3",
   "language": "python",
   "name": "python3"
  },
  "language_info": {
   "codemirror_mode": {
    "name": "ipython",
    "version": 3
   },
   "file_extension": ".py",
   "mimetype": "text/x-python",
   "name": "python",
   "nbconvert_exporter": "python",
   "pygments_lexer": "ipython3",
   "version": "3.6.3"
  }
 },
 "nbformat": 4,
 "nbformat_minor": 1
}
